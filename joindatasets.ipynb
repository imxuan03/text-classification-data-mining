{
 "cells": [
  {
   "cell_type": "code",
   "execution_count": 1,
   "metadata": {},
   "outputs": [
    {
     "name": "stdout",
     "output_type": "stream",
     "text": [
      "Các file JSON đã được kết hợp thành công vào combined.json!\n"
     ]
    }
   ],
   "source": [
    "import json\n",
    "import glob\n",
    "import os\n",
    "\n",
    "# Đường dẫn đến thư mục chứa các file JSON\n",
    "directory = 'datasets/*.json'\n",
    "\n",
    "# Danh sách để chứa dữ liệu từ các file JSON\n",
    "combined_data = []\n",
    "\n",
    "# Đọc và kết hợp dữ liệu từ các file JSON\n",
    "for file_name in glob.glob(directory):\n",
    "    with open(file_name, 'r', encoding='utf-8') as json_file:\n",
    "        data = json.load(json_file)\n",
    "        combined_data.append(data)  # Thêm dữ liệu vào danh sách\n",
    "\n",
    "# Ghi dữ liệu đã kết hợp vào file mới\n",
    "output_file = 'combined.json'  # Tên file đầu ra\n",
    "with open(output_file, 'w', encoding='utf-8') as combined_file:\n",
    "    json.dump(combined_data, combined_file, ensure_ascii=False, indent=4)\n",
    "\n",
    "print(f\"Các file JSON đã được kết hợp thành công vào {output_file}!\")\n"
   ]
  }
 ],
 "metadata": {
  "kernelspec": {
   "display_name": ".venv",
   "language": "python",
   "name": "python3"
  },
  "language_info": {
   "codemirror_mode": {
    "name": "ipython",
    "version": 3
   },
   "file_extension": ".py",
   "mimetype": "text/x-python",
   "name": "python",
   "nbconvert_exporter": "python",
   "pygments_lexer": "ipython3",
   "version": "3.11.9"
  }
 },
 "nbformat": 4,
 "nbformat_minor": 2
}
